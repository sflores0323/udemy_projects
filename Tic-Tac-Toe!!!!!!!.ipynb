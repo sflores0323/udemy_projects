{
 "cells": [
  {
   "cell_type": "code",
   "execution_count": 1,
   "metadata": {},
   "outputs": [],
   "source": [
    "from IPython.display import clear_output\n",
    "\n",
    "def show_board(board):    # Function takes in a board as a list and displays [1]-[9]\n",
    "    clear_output()\n",
    "    \n",
    "    print(' '+board[7]+' | '+board[8]+' | '+board[9])\n",
    "    print('-----------')\n",
    "    print(' '+board[4]+' | '+board[5]+' | '+board[6])\n",
    "    print('-----------')\n",
    "    print(' '+board[1]+' | '+board[2]+' | '+board[3])"
   ]
  },
  {
   "cell_type": "code",
   "execution_count": 2,
   "metadata": {},
   "outputs": [
    {
     "name": "stdout",
     "output_type": "stream",
     "text": [
      " X | X | X\n",
      "-----------\n",
      " X | X | X\n",
      "-----------\n",
      " X | X | O\n"
     ]
    }
   ],
   "source": [
    "test_board = ['#','X','X','O','X','X','X','X','X','X',]\n",
    "show_board(test_board)"
   ]
  },
  {
   "cell_type": "code",
   "execution_count": 3,
   "metadata": {},
   "outputs": [],
   "source": [
    "def user_choice():    #User will choose to be 'X' or 'O'\n",
    "\n",
    "    selection = True\n",
    "    \n",
    "    while selection is True:\n",
    "    \n",
    "        choice = input('Player 1 - Select X or O:  ')  # p_1 selects X or O upper or lower case\n",
    "        \n",
    "        if choice.upper() == 'X':\n",
    "            p_1 = 'X'\n",
    "            p_2 = 'O'\n",
    "            selection = False        # breaks out of the loop\n",
    "        elif choice.upper() == 'O':\n",
    "            p_1 = 'O'\n",
    "            p_2 = 'X'\n",
    "            selection = False        # breaks out of the loop\n",
    "        else:\n",
    "            selection = True    # re-runs the loop until desired input achieved\n",
    "                           \n",
    "    print(\"\\nPlayer 1 is '{}', and Player 2 is '{}'\".format(p_1,p_2))\n",
    "    \n",
    "    return (p_1,p_2)"
   ]
  },
  {
   "cell_type": "code",
   "execution_count": null,
   "metadata": {},
   "outputs": [],
   "source": []
  },
  {
   "cell_type": "code",
   "execution_count": 4,
   "metadata": {},
   "outputs": [],
   "source": [
    "def mark_it(board, marker ,position):  # takes in 3 inputs needed to mark a position on the board\n",
    "    \n",
    "    board[position] = marker    # takes an existing list and the inputed position and adds the users maker"
   ]
  },
  {
   "cell_type": "code",
   "execution_count": 5,
   "metadata": {},
   "outputs": [],
   "source": [
    "def is_winner(board, p_marker):    # takes in the board and the player marker and check for 3 in a row\n",
    "    \n",
    "    return ((board[7] == p_marker and board[8] == p_marker and board[9] == p_marker) or # Across\n",
    "        (board[4] == p_marker and board[5] == p_marker and board[6] == p_marker) or   # Across\n",
    "        (board[1] == p_marker and board[2] == p_marker and board[3] == p_marker) or   # Across\n",
    "        (board[7] == p_marker and board[4] == p_marker and board[1] == p_marker) or   # Down\n",
    "        (board[8] == p_marker and board[5] == p_marker and board[2] == p_marker) or   # Down\n",
    "        (board[9] == p_marker and board[6] == p_marker and board[3] == p_marker) or   # Down\n",
    "        (board[7] == p_marker and board[5] == p_marker and board[3] == p_marker) or   # Diagonal\n",
    "        (board[1] == p_marker and board[5] == p_marker and board[9] == p_marker))     # Diagonal"
   ]
  },
  {
   "cell_type": "code",
   "execution_count": null,
   "metadata": {},
   "outputs": [],
   "source": []
  },
  {
   "cell_type": "code",
   "execution_count": 6,
   "metadata": {},
   "outputs": [],
   "source": [
    "import random\n",
    "\n",
    "def goes_first():    # chooses which player has the first turn\n",
    "    if random.randint(0, 1) == 0:\n",
    "        return 'Player 1'\n",
    "    else:\n",
    "        return 'Player 2'"
   ]
  },
  {
   "cell_type": "code",
   "execution_count": 7,
   "metadata": {},
   "outputs": [],
   "source": [
    "def check_spot(board, position):    # determines if a spot already has a marker\n",
    "    \n",
    "    if board[position] == ' ':\n",
    "        return True\n",
    "    else:\n",
    "        return False         "
   ]
  },
  {
   "cell_type": "code",
   "execution_count": 8,
   "metadata": {},
   "outputs": [],
   "source": [
    "def is_board_full(board):    # determines if the board is full of marks\n",
    "    \n",
    "    if ' ' in board:    # checks for blank spaces in the board list\n",
    "        return False    # board is not full\n",
    "    else:\n",
    "        return True     # board is full"
   ]
  },
  {
   "cell_type": "code",
   "execution_count": 9,
   "metadata": {},
   "outputs": [],
   "source": [
    "def pick_spot(board):\n",
    "    \n",
    "    selection = 0\n",
    "    \n",
    "    while selection not in [1,2,3,4,5,6,7,8,9] or not check_spot(board, selection):\n",
    "        selection = int(input('Select an open spot 1-9:  '))\n",
    "        \n",
    "    return selection"
   ]
  },
  {
   "cell_type": "code",
   "execution_count": 10,
   "metadata": {},
   "outputs": [],
   "source": [
    "def play_again():\n",
    "    \n",
    "    if input('Play Again? Y or N:   ').lower() == 'y':\n",
    "        return True\n",
    "    else:\n",
    "        return False"
   ]
  },
  {
   "cell_type": "code",
   "execution_count": null,
   "metadata": {},
   "outputs": [],
   "source": []
  },
  {
   "cell_type": "code",
   "execution_count": null,
   "metadata": {},
   "outputs": [
    {
     "name": "stdout",
     "output_type": "stream",
     "text": [
      "Time to Tackle TIC-TAC-TOE!!!!\n",
      "\n",
      "\n"
     ]
    }
   ],
   "source": [
    "print(\"Time to Tackle TIC-TAC-TOE!!!!\")\n",
    "print(\"\\n\")\n",
    "\n",
    "# Start the game - Set up board, player 1 picks marker, decide who goes first\n",
    "\n",
    "while True:\n",
    "    \n",
    "    board = ['#',' ',' ',' ',' ',' ',' ',' ',' ',' ']    # Start with an empty board\n",
    "        \n",
    "    player_1, player_2 = user_choice()    # Touple unpacking to make p1 and p1 markers\n",
    "    \n",
    "    turn = goes_first()    # Turn = the player randomly selected to go first\n",
    "    print('\\n{} goes first!'.format(turn))\n",
    "        \n",
    "    ready = input('ARE WE READY? Y or N:  ')\n",
    "    \n",
    "    if ready.upper() == 'Y':\n",
    "        game_on = True\n",
    "    else:\n",
    "        game_on = False\n",
    "        \n",
    "    while game_on == True:\n",
    "        \n",
    "        # PLAYER 1'S TURN\n",
    "        if turn == 'Player 1':\n",
    "            \n",
    "            show_board(board)    # SHOWS BOARD BEFORE TURN\n",
    "            print('\\n  Player 1')\n",
    "            position = pick_spot(board)    # TAKES IN P1 PICK\n",
    "            mark_it(board, player_1, position)     # MARKS P1 PICK\n",
    "                \n",
    "            if is_winner(board, player_1):    # CHECKS IF P1 WINS\n",
    "                show_board(board)    # SHOWS THE WINNING BOARD\n",
    "                print('Congratulation Player 1. YOU WIN!!!')    \n",
    "                game_on = False    # BREAKS OUT OF THE GAME_ON LOOP - GAME OVER\n",
    "                \n",
    "            else: \n",
    "                if is_board_full(board):    # CHECKS FOR A FULL BOARD\n",
    "                    show_board(board)    # SHOWS THE FULL BOARD\n",
    "                    print('IT IS A DRAW')\n",
    "                    game_on = False    # BREAKS OUT OF THE GAME_ON LOOP - GAME OVER\n",
    "                    \n",
    "                else:\n",
    "                    turn = 'Player 2'    # NO WINNER, BOARD NOT FULL, NEXT P'S TURN\n",
    "                                    \n",
    "                            \n",
    "        # PLAYERS 2'S TURN                        \n",
    "        if turn == 'Player 2':\n",
    "            \n",
    "            show_board(board)    # SHOWS BOARD BEFORE TURN\n",
    "            print('\\n  Player 2')\n",
    "            position = pick_spot(board)    # TAKES IN P2 PICK\n",
    "            mark_it(board, player_2, position)    # MARKS P1 PICK\n",
    "                \n",
    "            if is_winner(board, player_2):    # CHECKS IF P2 WINS\n",
    "                show_board(board)    # SHOWS THE WINNING BOARD\n",
    "                print('Congratulation Player 2. YOU WIN!!!')\n",
    "                game_on = False     # BREAKS OUT OF THE GAME_ON LOOP - GAME OVER\n",
    "                \n",
    "            else: \n",
    "                if is_board_full(board):     # CHECKS FOR A FULL BOARD\n",
    "                    show_board(board)    # SHOWS THE FULL BOARD\n",
    "                    print('IT IS A DRAW')\n",
    "                    game_on = False    # BREAKS OUT OF THE GAME_ON LOOP - GAME OVER \n",
    "                    \n",
    "                else:\n",
    "                    turn = 'Player 1'    # NO WINNER, BOARD NOT FULL, NEXT P'S TURN\n",
    "        \n",
    "    if not play_again():    # IF GAME_ON = FALSE (GAME OVER) ASK TO PLAY AGAIN\n",
    "        break                                 \n",
    "             \n",
    "        \n",
    "      \n"
   ]
  },
  {
   "cell_type": "code",
   "execution_count": null,
   "metadata": {},
   "outputs": [],
   "source": []
  }
 ],
 "metadata": {
  "kernelspec": {
   "display_name": "Python 3",
   "language": "python",
   "name": "python3"
  },
  "language_info": {
   "codemirror_mode": {
    "name": "ipython",
    "version": 3
   },
   "file_extension": ".py",
   "mimetype": "text/x-python",
   "name": "python",
   "nbconvert_exporter": "python",
   "pygments_lexer": "ipython3",
   "version": "3.8.3"
  }
 },
 "nbformat": 4,
 "nbformat_minor": 4
}
