{
 "cells": [
  {
   "cell_type": "code",
   "execution_count": 143,
   "metadata": {},
   "outputs": [],
   "source": [
    "# Program that counts the total letters, vowels, and each vowel then prints the counts\n",
    "\n",
    "# input a .txt file into the function\n",
    "\n",
    "def letter_counter(file): \n",
    "\n",
    "    vowels = 'aeiou'    # defines the vowels to check against\n",
    "    all_letters = 'abcdefghijklmnopqrstuvwxyz'    # defines the letters to check against\n",
    "\n",
    "    total_l = 0    # total letter count starts at 0\n",
    "    total_v = 0    # total vowel count starts at 0\n",
    "   \n",
    "                   # the count for each vowel starts at 0\n",
    "    a_count = 0    \n",
    "    e_count = 0\n",
    "    i_count = 0\n",
    "    o_count = 0\n",
    "    u_count = 0\n",
    "\n",
    "    f = open(file,'r')    # opens the file entered into the function\n",
    "          \n",
    "    text_list = f.readlines()    # returns the string of text for each line as a list item\n",
    "\n",
    "    for line in text_list:       # for each line in the list\n",
    "        \n",
    "        for n in line:           # for each character in the string \n",
    "    \n",
    "            if n.lower() in all_letters:     # checks for characters a-z\n",
    "        \n",
    "                total_l += 1\n",
    "    \n",
    "            if n.lower() in vowels:    # checks for vowels\n",
    "        \n",
    "                total_v += 1\n",
    "        \n",
    "                if n.lower() == 'a':   # checks for 'a'\n",
    "                    a_count += 1\n",
    "                elif n.lower() == 'e':    # checks for 'e'\n",
    "                    e_count += 1\n",
    "                elif n.lower() == 'i':    # checks for 'i'\n",
    "                    i_count += 1\n",
    "                elif n.lower() == 'o':    # checks for 'o'\n",
    "                    o_count += 1\n",
    "                elif n.lower() == 'u':    # checks for 'u'\n",
    "                    u_count += 1\n",
    "            \n",
    "    print(\"Total number of letters:  {}\".format(total_l))\n",
    "    print(\"Total number of vowels:  {}\".format(total_v))\n",
    "    print(\"Vowel Counts:\")\n",
    "    print(\"\\ta: {}\".format(a_count))\n",
    "    print(\"\\te: {}\".format(e_count))\n",
    "    print(\"\\ti: {}\".format(i_count))\n",
    "    print(\"\\to: {}\".format(o_count))\n",
    "    print(\"\\tu: {}\".format(u_count))\n",
    "        \n",
    "    f.close()\n",
    "        \n",
    "    \n",
    "    "
   ]
  },
  {
   "cell_type": "code",
   "execution_count": 146,
   "metadata": {},
   "outputs": [
    {
     "name": "stdout",
     "output_type": "stream",
     "text": [
      "Total number of letters:  52\n",
      "Total number of vowels:  10\n",
      "Vowel Counts:\n",
      "\ta: 2\n",
      "\te: 2\n",
      "\ti: 2\n",
      "\to: 2\n",
      "\tu: 2\n"
     ]
    }
   ],
   "source": [
    "letter_counter('test.txt')"
   ]
  },
  {
   "cell_type": "code",
   "execution_count": 112,
   "metadata": {},
   "outputs": [],
   "source": []
  },
  {
   "cell_type": "code",
   "execution_count": 113,
   "metadata": {},
   "outputs": [],
   "source": []
  },
  {
   "cell_type": "code",
   "execution_count": 114,
   "metadata": {},
   "outputs": [],
   "source": []
  },
  {
   "cell_type": "code",
   "execution_count": null,
   "metadata": {},
   "outputs": [],
   "source": []
  },
  {
   "cell_type": "code",
   "execution_count": 136,
   "metadata": {},
   "outputs": [],
   "source": []
  },
  {
   "cell_type": "code",
   "execution_count": null,
   "metadata": {},
   "outputs": [],
   "source": []
  }
 ],
 "metadata": {
  "kernelspec": {
   "display_name": "Python 3",
   "language": "python",
   "name": "python3"
  },
  "language_info": {
   "codemirror_mode": {
    "name": "ipython",
    "version": 3
   },
   "file_extension": ".py",
   "mimetype": "text/x-python",
   "name": "python",
   "nbconvert_exporter": "python",
   "pygments_lexer": "ipython3",
   "version": "3.8.3"
  }
 },
 "nbformat": 4,
 "nbformat_minor": 4
}
